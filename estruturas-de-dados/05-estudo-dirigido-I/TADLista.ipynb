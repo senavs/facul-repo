{
 "cells": [
  {
   "cell_type": "code",
   "execution_count": 103,
   "metadata": {},
   "outputs": [],
   "source": [
    "class Aluno(object):\n",
    "    \n",
    "    def __init__(self, nome: str, nota: float):\n",
    "        self.nome = nome\n",
    "        self.nota = nota\n",
    "        \n",
    "    def inserirAluno(self, lista, posicao):\n",
    "        return lista.insereNaPos(self, posicao)\n",
    "    \n",
    "    def excluirAluno(self, lista):\n",
    "        return lista.excluiLista(self)\n",
    "    \n",
    "    def modificaNota(self, lista, nota):\n",
    "        self.nota = nota\n",
    "        busca = lista.buscaLista(self)\n",
    "        if busca[0]:\n",
    "            lista.modifica(self, busca[1])\n",
    "            return (True, \"Aluno modificado com sucesso e atualizado na lista\")\n",
    "        return (False, \"Aluno modificado com sucesso\")\n",
    "    \n",
    "    @staticmethod\n",
    "    def ordernaLista(lista):\n",
    "        return lista.ordenaLista()"
   ]
  },
  {
   "cell_type": "code",
   "execution_count": 104,
   "metadata": {},
   "outputs": [],
   "source": [
    "class Lista(object):  # Objeto Lista\n",
    "    \n",
    "    def __init__(self):  # Inicia e cria self.alunos(list) e self.tamanho(int)\n",
    "        self._alunos = []\n",
    "        self._tamanho = None\n",
    "        self._tamanhoMaximo = None\n",
    "    \n",
    "    def criaLista(self, tamanho):  # Pede o tamanho e cria a lista\n",
    "        if self._alunos == [] and self._tamanho is None:\n",
    "            self._alunos = [None for c in range(0, tamanho)]\n",
    "            self._tamanho = 0\n",
    "            self._tamanhoMaximo = tamanho\n",
    "            return (True, f\"Lista de tamanho {tamanho} criada com sucesso\")\n",
    "        return (False, f\"Erro ao criar a Lista. Talvez já tenha sido criada\")\n",
    "    \n",
    "    def vaziaLista(self):  # Verifica se a Lista está vazia\n",
    "        if self._tamanho is None and self._alunos == []:\n",
    "            return (False, \"Lista ainda não foi criada\")\n",
    "        for item_lista in self._alunos:\n",
    "            if item_lista is not None:\n",
    "                return (False, \"Lista não está vazia\")\n",
    "        return (True, \"Lista está vazia\")\n",
    "               \n",
    "    def cheiaLista(self):  # Verifica se a Lista está cheia\n",
    "        if self._tamanho is None and self._alunos == []:\n",
    "            return (False, \"Lista ainda não foi criada\")\n",
    "        for item_lista in self._alunos:\n",
    "            if item_lista is None:\n",
    "                return (False, \"Lista não está cheia\")\n",
    "        return (True, \"Lista está cheia\")\n",
    "    \n",
    "    def insereLista(self, aluno):\n",
    "        if not self.cheiaLista()[0]:\n",
    "            self._alunos[self._tamanho] = aluno\n",
    "            self._tamanho += 1\n",
    "            return (True, \"Aluno inserido com sucesso\")\n",
    "        return (False, \"Erro ao tentar inserir aluno. Verifique se a lista está cheia\")\n",
    "    \n",
    "    def buscaLista(self, aluno=None, posicao=None):  # Pesquisa se o aluno está na lista\n",
    "        for index_lista, item_lista in enumerate(self._alunos):\n",
    "            if posicao is None:\n",
    "                if item_lista == aluno:\n",
    "                    return (True, index_lista, f\"Aluno encontrado na lista\")\n",
    "            else:\n",
    "                if index_lista == posicao:\n",
    "                    return (True, index_lista, f\"Aluno encontrado na lista\")\n",
    "        return (False, f\"Aluno não foi encontrado a lista\")\n",
    "    \n",
    "    def excluiLista(self, aluno):  # Remove um aluno da lista e arruma a lista\n",
    "        busca = self.buscaLista(aluno)\n",
    "        if busca[0]:\n",
    "            index_aluno_excluir = self.buscaLista(aluno)[1]\n",
    "            for index_aluno, item_aluno in enumerate(self._alunos):\n",
    "                if index_aluno >= index_aluno_excluir:\n",
    "                    if index_aluno == self._tamanho - 1:\n",
    "                        self._alunos[index_aluno] = None\n",
    "                        continue\n",
    "                    self._alunos[index_aluno_excluir] = self._alunos[index_aluno_excluir + 1]\n",
    "                    index_aluno_excluir += 1\n",
    "            self._tamanho -= 1\n",
    "            return (True, f\"Aluno {aluno.nome} excluido com sucesso\")\n",
    "        return (False, f\"Erro ao tentar excluir o aluno {aluno.nome}. Talvez não esteja na lista\")\n",
    "    \n",
    "    def imprimeLista(self):  # Mostra todos os elementos da Lista\n",
    "        for aluno in self._alunos:\n",
    "            if aluno is not None:\n",
    "                nome = getattr(aluno, 'nome')\n",
    "                nota = getattr(aluno, 'nota')\n",
    "            else:\n",
    "                nome = 'Vazio'\n",
    "                nota = 'Vazio'\n",
    "            print(f\"{nome} - {nota}\\n\")\n",
    "            \n",
    "    def insereNaPos(self, aluno, posicao: int):  # Insere aluno na posição, se válida\n",
    "        if self.cheiaLista()[0]:\n",
    "            return (False, \"Lista cheia\")\n",
    "        elif posicao >= self._tamanhoMaximo:\n",
    "            return (False, f\"Posição inválida. Tente de 0 a {self._tamanhoMaximo - 1}\")\n",
    "        elif posicao < self._tamanho:   \n",
    "            nova_lista_alunos = self._alunos.copy()\n",
    "            for index, item in enumerate(self._alunos):\n",
    "                if index == self._tamanhoMaximo - 1:\n",
    "                    continue\n",
    "                if index >= posicao:\n",
    "                    nova_lista_alunos[index + 1] = self._alunos[index]\n",
    "\n",
    "            nova_lista_alunos[posicao] = aluno\n",
    "            self._alunos = nova_lista_alunos.copy()\n",
    "            self._tamanho += 1\n",
    "            return (True, f\"Aluno {aluno.nome} inserido na posição {posicao}\")\n",
    "        elif posicao == self._tamanhoMaximo - 1:\n",
    "            return self.insereLista(aluno)    \n",
    "        return (False, f\"Erro ao excluir aluno\")\n",
    "    \n",
    "    def excluiDaPos(self, posicao):  # Remove da lista o lemente na posicao\n",
    "        if self.vaziaLista()[0]:\n",
    "            return (False, \"Lista vazia\")\n",
    "        elif posicao < 0 or posicao >= self._tamanhoMaximo:\n",
    "            return (False, f\"Posição inválida. Tente de 0 a {self._tamanho - 1}\")\n",
    "        elif posicao >= self._tamanho:\n",
    "            return (False, f\"Posição inválida. Tente de 0 a {self._tamanho - 1}\")\n",
    "        else:\n",
    "            busca = self.buscaLista(posicao=posicao)\n",
    "            if busca[0]:\n",
    "                index_aluno_excluir = posicao\n",
    "                for index_aluno, item_aluno in enumerate(self._alunos):\n",
    "                    if index_aluno >= index_aluno_excluir:\n",
    "                        if index_aluno == self._tamanho - 1:\n",
    "                            self._alunos[index_aluno] = None\n",
    "                            continue\n",
    "                        self._alunos[index_aluno_excluir] = self._alunos[index_aluno_excluir + 1]\n",
    "                        index_aluno_excluir += 1\n",
    "                self._tamanho -= 1\n",
    "                return (True, f\"Aluno excluido com sucesso\")\n",
    "            return (False, f\"Erro ao tentar excluir aluno\")\n",
    "        \n",
    "    def modifica(self, aluno, posicao):\n",
    "        if self.vaziaLista()[0]:\n",
    "            return self.vaziaLista()\n",
    "        elif posicao < 0 or posicao >= self._tamanhoMaximo:\n",
    "            return (False, f\"Posição inválida. Tente de 0 a {self._tamanho - 1}\")\n",
    "        else:\n",
    "            self._alunos[posicao] = aluno\n",
    "            return (True, \"Aluno modificado com sucesso\")\n",
    "        \n",
    "    def ordenaLista(self):\n",
    "        nova_lista_alunos = [aluno.nome for aluno in self._alunos if aluno is not None]\n",
    "        nova_lista_alunos.sort()\n",
    "        return nova_lista_alunos"
   ]
  },
  {
   "cell_type": "code",
   "execution_count": 105,
   "metadata": {},
   "outputs": [],
   "source": [
    "aluno_1 = Aluno('Pedro', 10)\n",
    "aluno_2 = Aluno('João', 3)\n",
    "aluno_3 = Aluno('Paulo', 0)\n",
    "aluno_4 = Aluno('Maria', 9)\n",
    "aluno_5 = Aluno('Ana', 4)\n",
    "aluno_6 = Aluno('Rafael', 8)\n",
    "aluno_7 = Aluno('Paulo', 0)"
   ]
  },
  {
   "cell_type": "markdown",
   "metadata": {},
   "source": [
    "--"
   ]
  },
  {
   "cell_type": "code",
   "execution_count": 106,
   "metadata": {},
   "outputs": [
    {
     "data": {
      "text/plain": [
       "(True, 'Lista de tamanho 5 criada com sucesso')"
      ]
     },
     "execution_count": 106,
     "metadata": {},
     "output_type": "execute_result"
    }
   ],
   "source": [
    "lista_1 = Lista()\n",
    "lista_1.criaLista(5)"
   ]
  },
  {
   "cell_type": "code",
   "execution_count": 107,
   "metadata": {},
   "outputs": [
    {
     "data": {
      "text/plain": [
       "(True, 'Lista está vazia')"
      ]
     },
     "execution_count": 107,
     "metadata": {},
     "output_type": "execute_result"
    }
   ],
   "source": [
    "lista_1.vaziaLista()"
   ]
  },
  {
   "cell_type": "code",
   "execution_count": 108,
   "metadata": {},
   "outputs": [
    {
     "data": {
      "text/plain": [
       "(False, 'Lista não está cheia')"
      ]
     },
     "execution_count": 108,
     "metadata": {},
     "output_type": "execute_result"
    }
   ],
   "source": [
    "lista_1.cheiaLista()"
   ]
  },
  {
   "cell_type": "code",
   "execution_count": 109,
   "metadata": {},
   "outputs": [
    {
     "data": {
      "text/plain": [
       "(True, 'Aluno inserido com sucesso')"
      ]
     },
     "execution_count": 109,
     "metadata": {},
     "output_type": "execute_result"
    }
   ],
   "source": [
    "lista_1.insereLista(aluno_1)\n",
    "# >> (True, 'Aluno inserido com sucesso')\n",
    "lista_1.insereLista(aluno_2)\n",
    "# >> (True, 'Aluno inserido com sucesso')\n",
    "lista_1.insereLista(aluno_3)\n",
    "# >> (True, 'Aluno inserido com sucesso')"
   ]
  },
  {
   "cell_type": "code",
   "execution_count": 110,
   "metadata": {},
   "outputs": [
    {
     "data": {
      "text/plain": [
       "(True, 0, 'Aluno encontrado na lista')"
      ]
     },
     "execution_count": 110,
     "metadata": {},
     "output_type": "execute_result"
    }
   ],
   "source": [
    "lista_1.buscaLista(aluno_1)"
   ]
  },
  {
   "cell_type": "code",
   "execution_count": 111,
   "metadata": {},
   "outputs": [
    {
     "data": {
      "text/plain": [
       "(True, 'Aluno Pedro excluido com sucesso')"
      ]
     },
     "execution_count": 111,
     "metadata": {},
     "output_type": "execute_result"
    }
   ],
   "source": [
    "lista_1.excluiLista(aluno_1)"
   ]
  },
  {
   "cell_type": "code",
   "execution_count": 112,
   "metadata": {},
   "outputs": [
    {
     "name": "stdout",
     "output_type": "stream",
     "text": [
      "João - 3\n",
      "\n",
      "Paulo - 0\n",
      "\n",
      "Vazio - Vazio\n",
      "\n",
      "Vazio - Vazio\n",
      "\n",
      "Vazio - Vazio\n",
      "\n"
     ]
    }
   ],
   "source": [
    "lista_1.imprimeLista()"
   ]
  },
  {
   "cell_type": "code",
   "execution_count": 113,
   "metadata": {},
   "outputs": [
    {
     "data": {
      "text/plain": [
       "(True, 'Aluno Maria inserido na posição 1')"
      ]
     },
     "execution_count": 113,
     "metadata": {},
     "output_type": "execute_result"
    }
   ],
   "source": [
    "lista_1.insereNaPos(aluno_4, 1)"
   ]
  },
  {
   "cell_type": "code",
   "execution_count": 114,
   "metadata": {},
   "outputs": [
    {
     "name": "stdout",
     "output_type": "stream",
     "text": [
      "João - 3\n",
      "\n",
      "Maria - 9\n",
      "\n",
      "Paulo - 0\n",
      "\n",
      "Vazio - Vazio\n",
      "\n",
      "Vazio - Vazio\n",
      "\n"
     ]
    }
   ],
   "source": [
    "lista_1.imprimeLista()"
   ]
  },
  {
   "cell_type": "code",
   "execution_count": 115,
   "metadata": {},
   "outputs": [
    {
     "data": {
      "text/plain": [
       "(True, 'Aluno excluido com sucesso')"
      ]
     },
     "execution_count": 115,
     "metadata": {},
     "output_type": "execute_result"
    }
   ],
   "source": [
    "lista_1.excluiDaPos(2)"
   ]
  },
  {
   "cell_type": "code",
   "execution_count": 116,
   "metadata": {},
   "outputs": [
    {
     "name": "stdout",
     "output_type": "stream",
     "text": [
      "João - 3\n",
      "\n",
      "Maria - 9\n",
      "\n",
      "Vazio - Vazio\n",
      "\n",
      "Vazio - Vazio\n",
      "\n",
      "Vazio - Vazio\n",
      "\n"
     ]
    }
   ],
   "source": [
    "lista_1.imprimeLista()"
   ]
  },
  {
   "cell_type": "code",
   "execution_count": 117,
   "metadata": {},
   "outputs": [
    {
     "data": {
      "text/plain": [
       "(True, 'Aluno modificado com sucesso')"
      ]
     },
     "execution_count": 117,
     "metadata": {},
     "output_type": "execute_result"
    }
   ],
   "source": [
    "lista_1.modifica(aluno_6, 0)"
   ]
  },
  {
   "cell_type": "code",
   "execution_count": 118,
   "metadata": {},
   "outputs": [
    {
     "name": "stdout",
     "output_type": "stream",
     "text": [
      "Rafael - 8\n",
      "\n",
      "Maria - 9\n",
      "\n",
      "Vazio - Vazio\n",
      "\n",
      "Vazio - Vazio\n",
      "\n",
      "Vazio - Vazio\n",
      "\n"
     ]
    }
   ],
   "source": [
    "lista_1.imprimeLista()"
   ]
  },
  {
   "cell_type": "code",
   "execution_count": 119,
   "metadata": {},
   "outputs": [
    {
     "data": {
      "text/plain": [
       "(True, 'Aluno inserido com sucesso')"
      ]
     },
     "execution_count": 119,
     "metadata": {},
     "output_type": "execute_result"
    }
   ],
   "source": [
    "lista_1.insereLista(aluno_3)\n",
    "lista_1.insereLista(aluno_4)\n",
    "lista_1.insereLista(aluno_5)"
   ]
  },
  {
   "cell_type": "code",
   "execution_count": 120,
   "metadata": {},
   "outputs": [
    {
     "data": {
      "text/plain": [
       "['Ana', 'Maria', 'Maria', 'Paulo', 'Rafael']"
      ]
     },
     "execution_count": 120,
     "metadata": {},
     "output_type": "execute_result"
    }
   ],
   "source": [
    "lista_1.ordenaLista()"
   ]
  },
  {
   "cell_type": "code",
   "execution_count": 121,
   "metadata": {},
   "outputs": [
    {
     "data": {
      "text/plain": [
       "(True, 'Aluno Ana excluido com sucesso')"
      ]
     },
     "execution_count": 121,
     "metadata": {},
     "output_type": "execute_result"
    }
   ],
   "source": [
    "aluno_5.excluirAluno(lista_1)"
   ]
  },
  {
   "cell_type": "code",
   "execution_count": 122,
   "metadata": {},
   "outputs": [
    {
     "name": "stdout",
     "output_type": "stream",
     "text": [
      "Rafael - 8\n",
      "\n",
      "Maria - 9\n",
      "\n",
      "Paulo - 0\n",
      "\n",
      "Maria - 9\n",
      "\n",
      "Vazio - Vazio\n",
      "\n"
     ]
    }
   ],
   "source": [
    "lista_1.imprimeLista()"
   ]
  },
  {
   "cell_type": "code",
   "execution_count": 123,
   "metadata": {},
   "outputs": [
    {
     "data": {
      "text/plain": [
       "(True, 'Aluno inserido com sucesso')"
      ]
     },
     "execution_count": 123,
     "metadata": {},
     "output_type": "execute_result"
    }
   ],
   "source": [
    "aluno_5.inserirAluno(lista_1, 4)"
   ]
  },
  {
   "cell_type": "code",
   "execution_count": 124,
   "metadata": {},
   "outputs": [
    {
     "name": "stdout",
     "output_type": "stream",
     "text": [
      "Rafael - 8\n",
      "\n",
      "Maria - 9\n",
      "\n",
      "Paulo - 0\n",
      "\n",
      "Maria - 9\n",
      "\n",
      "Ana - 4\n",
      "\n"
     ]
    }
   ],
   "source": [
    "lista_1.imprimeLista()"
   ]
  },
  {
   "cell_type": "code",
   "execution_count": 125,
   "metadata": {},
   "outputs": [
    {
     "data": {
      "text/plain": [
       "(True, 'Aluno modificado com sucesso e atualizado na lista')"
      ]
     },
     "execution_count": 125,
     "metadata": {},
     "output_type": "execute_result"
    }
   ],
   "source": [
    "aluno_5.modificaNota(lista_1, 7)"
   ]
  },
  {
   "cell_type": "code",
   "execution_count": 126,
   "metadata": {},
   "outputs": [
    {
     "name": "stdout",
     "output_type": "stream",
     "text": [
      "Rafael - 8\n",
      "\n",
      "Maria - 9\n",
      "\n",
      "Paulo - 0\n",
      "\n",
      "Maria - 9\n",
      "\n",
      "Ana - 7\n",
      "\n"
     ]
    }
   ],
   "source": [
    "lista_1.imprimeLista()"
   ]
  },
  {
   "cell_type": "code",
   "execution_count": 130,
   "metadata": {},
   "outputs": [
    {
     "data": {
      "text/plain": [
       "['Ana', 'Maria', 'Maria', 'Paulo', 'Rafael']"
      ]
     },
     "execution_count": 130,
     "metadata": {},
     "output_type": "execute_result"
    }
   ],
   "source": [
    "aluno_5.ordernaLista(lista_1)"
   ]
  },
  {
   "cell_type": "code",
   "execution_count": null,
   "metadata": {},
   "outputs": [],
   "source": []
  },
  {
   "cell_type": "code",
   "execution_count": null,
   "metadata": {},
   "outputs": [],
   "source": []
  },
  {
   "cell_type": "code",
   "execution_count": null,
   "metadata": {},
   "outputs": [],
   "source": []
  },
  {
   "cell_type": "code",
   "execution_count": null,
   "metadata": {},
   "outputs": [],
   "source": []
  }
 ],
 "metadata": {
  "kernelspec": {
   "display_name": "Python 3",
   "language": "python",
   "name": "python3"
  },
  "language_info": {
   "codemirror_mode": {
    "name": "ipython",
    "version": 3
   },
   "file_extension": ".py",
   "mimetype": "text/x-python",
   "name": "python",
   "nbconvert_exporter": "python",
   "pygments_lexer": "ipython3",
   "version": "3.6.6"
  }
 },
 "nbformat": 4,
 "nbformat_minor": 2
}
